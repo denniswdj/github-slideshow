{
  "nbformat": 4,
  "nbformat_minor": 0,
  "metadata": {
    "colab": {
      "name": "ChordTranspose.ipynb",
      "provenance": [],
      "collapsed_sections": [],
      "include_colab_link": true
    },
    "kernelspec": {
      "name": "python3",
      "display_name": "Python 3"
    }
  },
  "cells": [
    {
      "cell_type": "markdown",
      "metadata": {
        "id": "view-in-github",
        "colab_type": "text"
      },
      "source": [
        "<a href=\"https://colab.research.google.com/github/denniswdj/github-slideshow/blob/master/ChordTranspose.ipynb\" target=\"_parent\"><img src=\"https://colab.research.google.com/assets/colab-badge.svg\" alt=\"Open In Colab\"/></a>"
      ]
    },
    {
      "cell_type": "markdown",
      "metadata": {
        "id": "HUHJRQnblXKH"
      },
      "source": [
        "## Chord Transpose >< Uniform Triadic Transformation (by Dennis Widjaja)"
      ]
    },
    {
      "cell_type": "markdown",
      "metadata": {
        "id": "M4f7_N3cghbk"
      },
      "source": [
        "In this Colab, I create a program for chord transposition using **Uniform Triadic Transformation (UTT)**. The main idea comes from the cyclic group (part of group theory, branch of Algebra in pure mathematics) which an element of a group can generate other elements in simply transitive UTT group. \n",
        "\n",
        "Note that the chord are available only for major and minor chords. If you have any suggestions, feel free to send me a message.\n",
        "\n",
        "Follow me on [GitHub](https://github.com/denniswdj) and let's connect through [LinkedIn](https://www.linkedin.com/in/dennis-w-21997a80/) !\n",
        "\n",
        "\n",
        "---\n",
        "\n",
        "\n",
        "Main reference:\n",
        "\n",
        "> Hook, Julian. “Uniform Triadic Transformations.” Journal of Music Theory, vol. 46, no. 1/2, 2002, pp. 57–126. JSTOR, www.jstor.org/stable/4147678. Accessed 18 May 2021.\n",
        "\n",
        "\n",
        "\n"
      ]
    },
    {
      "cell_type": "markdown",
      "metadata": {
        "id": "RKwvWz7GezHY"
      },
      "source": [
        "###Import packages needed"
      ]
    },
    {
      "cell_type": "code",
      "metadata": {
        "id": "sgeLr5vxhuJu"
      },
      "source": [
        "from random import randint\n",
        "import numpy as np"
      ],
      "execution_count": 2,
      "outputs": []
    },
    {
      "cell_type": "markdown",
      "metadata": {
        "id": "-kAYwW3QfGac"
      },
      "source": [
        "###Define function"
      ]
    },
    {
      "cell_type": "code",
      "metadata": {
        "id": "4pp1SIy_fIOn"
      },
      "source": [
        "def composition(a,b,c,d,e,f): #<\\sigma,r_1,r_2> <\\sigma*,r_1*,r_2*>\n",
        "  if a == 0:\n",
        "    z2 = (b + e) % 12\n",
        "    z3 = (c + f) % 12\n",
        "  else:\n",
        "    z2 = (b + f) % 12\n",
        "    z3 = (c + e) % 12\n",
        "\n",
        "  z1 = (a + d) % 2\n",
        "  return z1,z2,z3\n",
        "\n",
        "def UTTransformation(a,b,c,d,e): #<\\sigma_U,r_1,r_2> (r,\\sigma)\n",
        "  if e == 0:\n",
        "    r = (d + b) % 12\n",
        "  else:\n",
        "    r = (d + c) % 12\n",
        "  \n",
        "  if a == 0:\n",
        "    sigma = e\n",
        "  else:\n",
        "    sigma = (e + 1) % 2\n",
        "  \n",
        "  return r,sigma\n",
        "\n",
        "def numberChord(x):\n",
        "  if len(x) == 3:\n",
        "    sigma = 1\n",
        "    chord_simple = x[0:2]\n",
        "  elif len(x) == 2:\n",
        "    if x[1:2] == 'm':\n",
        "      sigma = 1\n",
        "      chord_simple = x[0:1]\n",
        "    else:\n",
        "      sigma = 0\n",
        "      chord_simple = x\n",
        "  else:\n",
        "    sigma = 0\n",
        "    chord_simple = x\n",
        "\n",
        "  r = switcher.get(chord_simple, 'No chord available')\n",
        "  return r,sigma\n",
        "\n",
        "def step(rCheck,sigmaCheck,UTT_Triad):\n",
        "  for i in range(24):\n",
        "    if rCheck == UTT_Triad[i,3]:\n",
        "      if sigmaCheck == UTT_Triad[i,4]:\n",
        "        break\n",
        "  return i\n",
        "\n",
        "def alphabetChord(r,sigma):\n",
        "  if sigma == 1:\n",
        "    text2 = 'm'\n",
        "  else:\n",
        "    text2 = ''\n",
        "  text1 = switcher_inverse.get(r, 'No chord available')\n",
        "  return text1 + text2\n",
        "\n",
        "switcher = {\n",
        "      'C'   : 0, 'C#'  : 1, 'Db'  : 1, 'D'   : 2, 'D#'  : 3, 'Eb'  : 3, 'E'   : 4, 'F'   : 5, 'F#'  : 6, 'Gb'  : 6,\n",
        "      'G'   : 7, 'G#'  : 8, 'Ab'  : 8, 'A'   : 9, 'A#'  : 10,'Bb'  : 10,'B'   : 11\n",
        "  }\n",
        "\n",
        "switcher_inverse = {y:x for (x,y) in switcher.items()}"
      ],
      "execution_count": 3,
      "outputs": []
    },
    {
      "cell_type": "markdown",
      "metadata": {
        "id": "3aYAb2AXfUAz"
      },
      "source": [
        "###Pre-processing"
      ]
    },
    {
      "cell_type": "code",
      "metadata": {
        "colab": {
          "base_uri": "https://localhost:8080/"
        },
        "id": "wbfUDTx9fV4s",
        "outputId": "c2fcf907-b552-4280-af2a-f4ac3f5aaf10"
      },
      "source": [
        "m = 0 ; n = 0\n",
        "\n",
        "while (m + n)%12 != 1 and (m + n)%12 != 5 and (m + n)%12 != 7 and (m + n)%12 != 11:\n",
        "  m = randint(0,12)\n",
        "  n = randint(0,12)\n",
        "print(\"UTT Generator: <-,\" + str(m) + \",\" + str(n) + \">\")\n",
        "\n",
        "i = 1 ; j = 2\n",
        "UTT_Triad = np.empty((0,3),int)\n",
        "UTT_Triad = np.append(UTT_Triad, np.array([[1,m,n]]),axis=0)\n",
        "while UTT_Triad[i-1,0] != 0 or UTT_Triad[i-1,1] != 0 or UTT_Triad[i-1,2] != 0:\n",
        "  z1,z2,z3 = composition(UTT_Triad[j-2,0],UTT_Triad[j-2,1],UTT_Triad[j-2,2],UTT_Triad[0,0],UTT_Triad[0,1],UTT_Triad[0,2])\n",
        "  i += 1\n",
        "  UTT_Triad = np.append(UTT_Triad, np.array([[z1,z2,z3]]),axis=0)\n",
        "  j += 1\n",
        "\n",
        "r_matrix = []\n",
        "sigma_matrix = []\n",
        "for x in range(i):\n",
        "  r,sigma = UTTransformation(UTT_Triad[x,0],UTT_Triad[x,1],UTT_Triad[x,2],0,0)\n",
        "  r_matrix += [r]\n",
        "  sigma_matrix += [sigma]\n",
        "\n",
        "UTT_Triad = np.append(UTT_Triad, np.transpose(np.vstack((r_matrix,sigma_matrix))),axis=1)\n"
      ],
      "execution_count": 4,
      "outputs": [
        {
          "output_type": "stream",
          "text": [
            "UTT Generator: <-,10,3>\n"
          ],
          "name": "stdout"
        }
      ]
    },
    {
      "cell_type": "markdown",
      "metadata": {
        "id": "V1-Ejb0UfgEg"
      },
      "source": [
        "###Main program"
      ]
    },
    {
      "cell_type": "code",
      "metadata": {
        "colab": {
          "base_uri": "https://localhost:8080/"
        },
        "id": "PD0oqbfPffUi",
        "outputId": "dcfdc905-7a93-4c7d-824a-85043cf8407c"
      },
      "source": [
        "initialBasicTone = input(\"Please input your initial basic tone: \")\n",
        "chordSequence = input(\"Please input your chord sequence (end with chord, not space \" \"): \")\n",
        "targetBasicTone = input(\"Please input your target basic tone: \")\n",
        "chordList = chordSequence.split(\" \")\n",
        "r_initial, sigma_initial = numberChord(initialBasicTone)\n",
        "r_target, sigma_target = numberChord(targetBasicTone)\n",
        "\n",
        "NoSteps = (step(r_target,sigma_target,UTT_Triad) - step(r_initial,sigma_initial,UTT_Triad)) % 24\n",
        "\n",
        "chordListNumber = np.empty((0,2),int)\n",
        "initialPosition = []\n",
        "targetPosition = []\n",
        "for i in range(len(chordList)):\n",
        "  chord = chordList[i]\n",
        "  r, sigma = numberChord(chord)\n",
        "  chordListNumber = np.append(chordListNumber, np.array([[r,sigma]]),axis=0)\n",
        "  k = step(chordListNumber[i,0],chordListNumber[i,1],UTT_Triad)\n",
        "  initialPosition += [k]\n",
        "  k = (k + NoSteps) % 24\n",
        "  if k == 0:\n",
        "    k = 24\n",
        "  targetPosition += [k]\n",
        "\n",
        "chordResult = []\n",
        "for i in range(len(chordList)):\n",
        "  r = UTT_Triad[targetPosition[i],3]\n",
        "  sigma = UTT_Triad[targetPosition[i],4]\n",
        "  text = alphabetChord(r,sigma)\n",
        "  chordResult += [text]\n",
        "\n",
        "FinalText = \"\"\n",
        "for i in range(len(chordResult)): \n",
        "  FinalText = FinalText + chordResult[i] + \" \"\n",
        "print(\"Transposition result: \" + FinalText)"
      ],
      "execution_count": 5,
      "outputs": [
        {
          "output_type": "stream",
          "text": [
            "Please input your initial basic tone: C\n",
            "Please input your chord sequence (end with chord, not space ): C Dm Em F G\n",
            "Please input your target basic tone: G\n",
            "Transposition result: G Am Bm C D \n"
          ],
          "name": "stdout"
        }
      ]
    }
  ]
}